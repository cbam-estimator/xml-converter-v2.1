{
 "cells": [
  {
   "cell_type": "code",
   "execution_count": 8,
   "metadata": {},
   "outputs": [],
   "source": [
    "import logging\n",
    "from selenium import webdriver\n",
    "from selenium.webdriver.chrome.service import Service\n",
    "from selenium.webdriver.common.by import By\n",
    "from selenium.webdriver.support.ui import Select, WebDriverWait\n",
    "from selenium.webdriver.support import expected_conditions as EC\n",
    "import time\n",
    "\n",
    "# Logging konfigurieren\n",
    "logging.basicConfig(level=logging.INFO, format='%(asctime)s - %(levelname)s - %(message)s')\n",
    "\n",
    "# Pfad zum ChromeDriver\n",
    "chrome_service = Service('/opt/homebrew/bin/chromedriver')\n",
    "\n",
    "# Chrome-Optionen konfigurieren\n",
    "options = webdriver.ChromeOptions()\n",
    "options.binary_location = '/Users/andreas/Downloads/chrome-mac-arm64/Google Chrome for Testing.app/Contents/MacOS/Google Chrome for Testing'\n",
    "\n",
    "# Initialisiere den WebDriver (hier für Chrome)\n",
    "driver = webdriver.Chrome(service=chrome_service, options=options)\n"
   ]
  },
  {
   "cell_type": "code",
   "execution_count": 9,
   "metadata": {},
   "outputs": [
    {
     "name": "stderr",
     "output_type": "stream",
     "text": [
      "2024-07-27 19:27:15,373 - INFO - Öffne die Webseite...\n"
     ]
    }
   ],
   "source": [
    "try:\n",
    "    logging.info('Öffne die Webseite...')\n",
    "    # Öffne die Webseite\n",
    "    driver.get('https://cbam.ec.europa.eu/declarant')\n",
    "    time.sleep(1)  # Pause einfügen\n",
    "except Exception as e:\n",
    "    logging.error('Ein Fehler ist aufgetreten: %s', e)"
   ]
  },
  {
   "cell_type": "code",
   "execution_count": 12,
   "metadata": {},
   "outputs": [
    {
     "name": "stderr",
     "output_type": "stream",
     "text": [
      "2024-07-27 19:28:34,743 - INFO - Warte, bis das erste Dropdown-Menü geladen ist...\n",
      "2024-07-27 19:28:34,748 - INFO - Wähle \"Zoll\" im ersten Dropdown-Menü aus...\n"
     ]
    }
   ],
   "source": [
    "try:\n",
    "    logging.info('Warte, bis das erste Dropdown-Menü geladen ist...')\n",
    "    WebDriverWait(driver, 10).until(\n",
    "        EC.presence_of_element_located((By.NAME, 'domain'))\n",
    "    )\n",
    "except Exception as e:\n",
    "    logging.error('Ein Fehler ist aufgetreten: %s', e)\n",
    "try:\n",
    "    logging.info('Wähle \"Zoll\" im ersten Dropdown-Menü aus...')\n",
    "    select_domain = Select(driver.find_element(By.NAME, 'domain'))\n",
    "    select_domain.select_by_value('CUST')\n",
    "    time.sleep(1)  # Pause einfügen\n",
    "except Exception as e:\n",
    "    logging.error('Ein Fehler ist aufgetreten: %s', e)"
   ]
  },
  {
   "cell_type": "code",
   "execution_count": 15,
   "metadata": {},
   "outputs": [
    {
     "name": "stderr",
     "output_type": "stream",
     "text": [
      "2024-07-27 19:29:51,700 - INFO - Warte, bis das zweite Dropdown-Menü geladen ist...\n",
      "2024-07-27 19:29:54,711 - INFO - Wähle \"Germany\" im zweiten Dropdown-Menü aus...\n"
     ]
    }
   ],
   "source": [
    "try:\n",
    "    logging.info('Warte, bis das zweite Dropdown-Menü geladen ist...')\n",
    "    WebDriverWait(driver, 10).until(\n",
    "        EC.presence_of_element_located((By.NAME, 'subdomain'))\n",
    "    )\n",
    "    time.sleep(1)  # Pause einfügen\n",
    "except Exception as e:\n",
    "    logging.error('Ein Fehler ist aufgetreten: %s', e)\n",
    "\n",
    "try:\n",
    "    logging.info('Wähle \"Germany\" im zweiten Dropdown-Menü aus...')\n",
    "    select_subdomain = Select(driver.find_element(By.NAME, 'subdomain'))\n",
    "    select_subdomain.select_by_visible_text('Germany')\n",
    "    time.sleep(1)  # Pause einfügen\n",
    "except Exception as e:\n",
    "    logging.error('Ein Fehler ist aufgetreten: %s', e)"
   ]
  },
  {
   "cell_type": "code",
   "execution_count": 17,
   "metadata": {},
   "outputs": [
    {
     "name": "stderr",
     "output_type": "stream",
     "text": [
      "2024-07-27 19:30:50,007 - INFO - Warte, bis das dritte Dropdown-Menü geladen ist...\n",
      "2024-07-27 19:30:53,017 - INFO - Wähle \"Wirtschaftsbeteiligter\" im dritten Dropdown-Menü aus...\n"
     ]
    }
   ],
   "source": [
    "try:\n",
    "    logging.info('Warte, bis das dritte Dropdown-Menü geladen ist...')\n",
    "    WebDriverWait(driver, 10).until(\n",
    "        EC.presence_of_element_located((By.NAME, 'typeOfActor'))\n",
    "    )\n",
    "    time.sleep(1)  # Pause einfügen\n",
    "except Exception as e:\n",
    "    logging.error('Ein Fehler ist aufgetreten: %s', e)\n",
    "\n",
    "try:\n",
    "    logging.info('Wähle \"Wirtschaftsbeteiligter\" im dritten Dropdown-Menü aus...')\n",
    "    select_type_of_actor = Select(driver.find_element(By.NAME, 'typeOfActor'))\n",
    "    select_type_of_actor.select_by_visible_text('Wirtschaftsbeteiligter')\n",
    "    time.sleep(3)  # Pause einfügen\n",
    "except Exception as e:\n",
    "    logging.error('Ein Fehler ist aufgetreten: %s', e)"
   ]
  },
  {
   "cell_type": "code",
   "execution_count": 18,
   "metadata": {},
   "outputs": [
    {
     "name": "stderr",
     "output_type": "stream",
     "text": [
      "2024-07-27 19:31:25,004 - INFO - Checke die \"mir selbst\" Radiobox...\n"
     ]
    }
   ],
   "source": [
    "try:\n",
    "    logging.info('Checke die \"mir selbst\" Radiobox...')\n",
    "    radio_self = driver.find_element(By.ID, 'optionsRadios1')\n",
    "    radio_self.click()\n",
    "    time.sleep(3)  # Pause einfügen\n",
    "except Exception as e:\n",
    "    logging.error('Ein Fehler ist aufgetreten: %s', e)"
   ]
  },
  {
   "cell_type": "code",
   "execution_count": 19,
   "metadata": {},
   "outputs": [
    {
     "name": "stderr",
     "output_type": "stream",
     "text": [
      "2024-07-27 19:31:43,439 - INFO - Checke die Einverständnis-Checkbox...\n"
     ]
    }
   ],
   "source": [
    "try:\n",
    "    logging.info('Checke die Einverständnis-Checkbox...')\n",
    "    consent_checkbox = driver.find_element(By.NAME, 'consent')\n",
    "    consent_checkbox.click()\n",
    "    time.sleep(1)  # Pause einfügen\n",
    "except Exception as e:\n",
    "    logging.error('Ein Fehler ist aufgetreten: %s', e)"
   ]
  },
  {
   "cell_type": "code",
   "execution_count": 20,
   "metadata": {},
   "outputs": [
    {
     "name": "stderr",
     "output_type": "stream",
     "text": [
      "2024-07-27 19:32:00,854 - INFO - Drücke den \"Abschicken\"-Button...\n"
     ]
    }
   ],
   "source": [
    "try:\n",
    "    logging.info('Drücke den \"Abschicken\"-Button...')\n",
    "    submit_button = driver.find_element(By.CSS_SELECTOR, 'button[type=\"submit\"]')\n",
    "    submit_button.click()\n",
    "    time.sleep(3)  # Pause einfügen\n",
    "except Exception as e:\n",
    "    logging.error('Ein Fehler ist aufgetreten: %s', e)"
   ]
  },
  {
   "cell_type": "code",
   "execution_count": 21,
   "metadata": {},
   "outputs": [
    {
     "name": "stderr",
     "output_type": "stream",
     "text": [
      "2024-07-27 19:32:31,024 - INFO - Überprüfen, ob die Weiterleitung erfolgreich war...\n",
      "2024-07-27 19:32:41,156 - ERROR - Ein Fehler ist aufgetreten: Message: \n",
      "\n"
     ]
    }
   ],
   "source": [
    "try:\n",
    "    logging.info('Überprüfen, ob die Weiterleitung erfolgreich war...')\n",
    "    WebDriverWait(driver, 10).until(\n",
    "        EC.url_changes(driver.current_url)\n",
    "    )\n",
    "    logging.info('Weiterleitung erfolgreich!')\n",
    "except Exception as e:\n",
    "    logging.error('Ein Fehler ist aufgetreten: %s', e)"
   ]
  },
  {
   "cell_type": "code",
   "execution_count": null,
   "metadata": {},
   "outputs": [],
   "source": []
  }
 ],
 "metadata": {
  "kernelspec": {
   "display_name": ".venv",
   "language": "python",
   "name": "python3"
  },
  "language_info": {
   "codemirror_mode": {
    "name": "ipython",
    "version": 3
   },
   "file_extension": ".py",
   "mimetype": "text/x-python",
   "name": "python",
   "nbconvert_exporter": "python",
   "pygments_lexer": "ipython3",
   "version": "3.12.4"
  }
 },
 "nbformat": 4,
 "nbformat_minor": 2
}
