{
 "cells": [
  {
   "cell_type": "code",
   "execution_count": 1,
   "metadata": {},
   "outputs": [
    {
     "name": "stdout",
     "output_type": "stream",
     "text": [
      "Hello world\n"
     ]
    }
   ],
   "source": [
    "print(\"Hello world\")"
   ]
  },
  {
   "cell_type": "code",
   "execution_count": 2,
   "metadata": {},
   "outputs": [
    {
     "name": "stdout",
     "output_type": "stream",
     "text": [
      "Invalid data: {'password': [\"value does not match regex '@'\"]}\n"
     ]
    }
   ],
   "source": [
    "from cerberus import Validator\n",
    "\n",
    "schema = {\n",
    "    'username': {'type': 'string', 'minlength': 3, 'maxlength': 30},\n",
    "    'age': {'type': 'integer', 'min': 1},\n",
    "    'initials': {'type': 'string', 'regex': '^[A-Z]{2}$'},\n",
    "    'password': {'type': 'string', 'forbidden': ['xy'], 'regex': '@'},\n",
    "    'email': {'type': 'string', 'regex': r'^\\S+@\\S+\\.\\S+$'}\n",
    "}\n",
    "\n",
    "v = Validator(schema)\n",
    "\n",
    "# Beispiel-Daten\n",
    "data = {\n",
    "    \"username\": \"user123\",\n",
    "    \"age\": 25,\n",
    "    \"initials\": \"AB\",\n",
    "    \"password\": \"myp@ssword\",\n",
    "    \"email\": \"user@example.com\"\n",
    "}\n",
    "\n",
    "# Validierung\n",
    "if v.validate(data):\n",
    "    print(\"Valid data:\", v.document)\n",
    "else:\n",
    "    print(\"Invalid data:\", v.errors)"
   ]
  },
  {
   "cell_type": "code",
   "execution_count": 8,
   "metadata": {},
   "outputs": [
    {
     "name": "stdout",
     "output_type": "stream",
     "text": [
      "{'fortune': ['must be of string type']}\n"
     ]
    }
   ],
   "source": [
    "schema = {\n",
    "    'name': {'type': 'string'},\n",
    "    'age': {'type': 'integer', 'min': 1, 'max': 125},\n",
    "    'fortune': {'type': 'string'},\n",
    "\n",
    "}\n",
    "\n",
    "\n",
    "val = Validator(schema)\n",
    "\n",
    "val.validate({'name': 'John Doe', 'fortune': 7})\n",
    "\n",
    "print(val.errors)\n",
    "\n"
   ]
  },
  {
   "cell_type": "code",
   "execution_count": 36,
   "metadata": {},
   "outputs": [
    {
     "name": "stdout",
     "output_type": "stream",
     "text": [
      "/Users/andreas/Library/Mobile Documents/iCloud~md~obsidian/Documents/CBAM/ce_xml_converter/tests/playground\n"
     ]
    },
    {
     "ename": "ValueError",
     "evalue": "Cannot get cell to the left of the first cell in a row",
     "output_type": "error",
     "traceback": [
      "\u001b[0;31m---------------------------------------------------------------------------\u001b[0m",
      "\u001b[0;31mValueError\u001b[0m                                Traceback (most recent call last)",
      "Cell \u001b[0;32mIn[36], line 41\u001b[0m\n\u001b[1;32m     38\u001b[0m wb \u001b[38;5;241m=\u001b[39m openpyxl\u001b[38;5;241m.\u001b[39mload_workbook(\u001b[38;5;124m'\u001b[39m\u001b[38;5;124m../testdata/datenerfassung_leer_V1.7.2.xlsx\u001b[39m\u001b[38;5;124m'\u001b[39m)\n\u001b[1;32m     39\u001b[0m ws \u001b[38;5;241m=\u001b[39m wb[\u001b[38;5;124m\"\u001b[39m\u001b[38;5;124mSpecification\u001b[39m\u001b[38;5;124m\"\u001b[39m]\n\u001b[0;32m---> 41\u001b[0m \u001b[38;5;28mprint\u001b[39m(\u001b[38;5;124mf\u001b[39m\u001b[38;5;124m\"\u001b[39m\u001b[38;5;124mReturn:\u001b[39m\u001b[38;5;132;01m{\u001b[39;00m\u001b[43mcell_adjacent_to_keyword\u001b[49m\u001b[43m(\u001b[49m\u001b[43mws\u001b[49m\u001b[43m,\u001b[49m\u001b[38;5;250;43m \u001b[39;49m\u001b[38;5;124;43m\"\u001b[39;49m\u001b[38;5;124;43mVersion\u001b[39;49m\u001b[38;5;124;43m\"\u001b[39;49m\u001b[43m,\u001b[49m\u001b[38;5;250;43m \u001b[39;49m\u001b[43morientation\u001b[49m\u001b[38;5;241;43m=\u001b[39;49m\u001b[38;5;124;43m\"\u001b[39;49m\u001b[38;5;124;43mleft\u001b[39;49m\u001b[38;5;124;43m\"\u001b[39;49m\u001b[43m)\u001b[49m\u001b[38;5;132;01m}\u001b[39;00m\u001b[38;5;124m|\u001b[39m\u001b[38;5;124m\"\u001b[39m)\n",
      "Cell \u001b[0;32mIn[36], line 21\u001b[0m, in \u001b[0;36mcell_adjacent_to_keyword\u001b[0;34m(worksheet, keyword, orientation)\u001b[0m\n\u001b[1;32m     19\u001b[0m \u001b[38;5;28;01melif\u001b[39;00m orientation \u001b[38;5;241m==\u001b[39m \u001b[38;5;124m\"\u001b[39m\u001b[38;5;124mleft\u001b[39m\u001b[38;5;124m\"\u001b[39m:\n\u001b[1;32m     20\u001b[0m     \u001b[38;5;28;01mif\u001b[39;00m cell\u001b[38;5;241m.\u001b[39mcolumn \u001b[38;5;241m==\u001b[39m \u001b[38;5;241m1\u001b[39m:\n\u001b[0;32m---> 21\u001b[0m         \u001b[38;5;28;01mraise\u001b[39;00m \u001b[38;5;167;01mValueError\u001b[39;00m(\u001b[38;5;124m\"\u001b[39m\u001b[38;5;124mCannot get cell to the left of the first cell in a row\u001b[39m\u001b[38;5;124m\"\u001b[39m)\n\u001b[1;32m     22\u001b[0m     return_val \u001b[38;5;241m=\u001b[39m cell\u001b[38;5;241m.\u001b[39moffset(row\u001b[38;5;241m=\u001b[39m\u001b[38;5;241m0\u001b[39m, column\u001b[38;5;241m=\u001b[39m\u001b[38;5;241m-\u001b[39m\u001b[38;5;241m1\u001b[39m)\u001b[38;5;241m.\u001b[39mvalue\n\u001b[1;32m     23\u001b[0m \u001b[38;5;28;01melif\u001b[39;00m orientation \u001b[38;5;241m==\u001b[39m \u001b[38;5;124m\"\u001b[39m\u001b[38;5;124mup\u001b[39m\u001b[38;5;124m\"\u001b[39m:\n",
      "\u001b[0;31mValueError\u001b[0m: Cannot get cell to the left of the first cell in a row"
     ]
    }
   ],
   "source": [
    "import openpyxl\n",
    "import os\n",
    "\n",
    "def cell_adjacent_to_keyword(worksheet, keyword, orientation=\"right\"):\n",
    "    \"\"\"\n",
    "    Returns \"\" if target cell is empty, None if target cell does not exist\n",
    "    \"\"\"\n",
    "\n",
    "    if orientation not in [\"right\", \"left\", \"up\", \"down\"]:\n",
    "        raise ValueError(\"Invalid orientation. Must be one of 'right', 'left', 'up', 'down'\")\n",
    "\n",
    "    return_val = \"\"\n",
    "\n",
    "    for row in worksheet.iter_rows():\n",
    "        for cell in row:\n",
    "            if cell.value == keyword:\n",
    "                if orientation == \"right\":\n",
    "                    return_val = cell.offset(row=0, column=1).value\n",
    "                elif orientation == \"left\":\n",
    "                    if cell.column == 1:\n",
    "                        raise ValueError(\"Cannot get cell to the left of the first cell in a row\")\n",
    "                    return_val = cell.offset(row=0, column=-1).value\n",
    "                elif orientation == \"up\":\n",
    "                    if cell.row == 1:\n",
    "                        raise ValueError(\"Cannot get cell above the first row\")\n",
    "                    return_val = cell.offset(row=-1, column=0).value\n",
    "                elif orientation == \"down\":\n",
    "                    return_val = cell.offset(row=1, column=0).value\n",
    "    \n",
    "    if return_val is None:\n",
    "        return \"\"\n",
    "    else:\n",
    "        return return_val\n",
    "\n",
    "\n",
    "print(os.getcwd())\n",
    "\n",
    "wb = openpyxl.load_workbook('../testdata/datenerfassung_leer_V1.7.2.xlsx')\n",
    "ws = wb[\"Specification\"]\n",
    "\n",
    "print(f\"Return:{cell_adjacent_to_keyword(ws, \"Version\", orientation=\"left\")}|\")"
   ]
  },
  {
   "cell_type": "code",
   "execution_count": 43,
   "metadata": {},
   "outputs": [
    {
     "name": "stdout",
     "output_type": "stream",
     "text": [
      "{'base': {'sheets': [{'actual_name': 'Allgemeine_Informationen',\n",
      "                      'legacy_name': 'Allgemeine_Informationen',\n",
      "                      'tables': [{'fields': [{'field_actual_name': 'Unternehmen',\n",
      "                                              'field_legacy_name': 'Unternehmen',\n",
      "                                              'type': 'string_m'},\n",
      "                                             {'field_name': 'Straße',\n",
      "                                              'type': 'string_m'},\n",
      "                                             {'field_name': 'Hausnummer',\n",
      "                                              'type': 'string_m'},\n",
      "                                             {'field_name': 'Adresszusatz',\n",
      "                                              'type': 'string_m'},\n",
      "                                             {'field_name': 'Postleitzahl',\n",
      "                                              'type': 'string_m'},\n",
      "                                             {'field_name': 'Stadt',\n",
      "                                              'type': 'string_m'},\n",
      "                                             {'field_name': 'Land',\n",
      "                                              'type': 'country_m'},\n",
      "                                             {'field_name': 'EORI',\n",
      "                                              'type': 'string_m'},\n",
      "                                             {'field_name': 'Ansprechpartner',\n",
      "                                              'type': 'string_m'},\n",
      "                                             {'field_name': 'Ansprechpartner - '\n",
      "                                                            'Position',\n",
      "                                              'type': 'string_m'}],\n",
      "                                  'num_entries': '1',\n",
      "                                  'orientation': 'horizontal',\n",
      "                                  'table_name': 'General_Information',\n",
      "                                  'upper_left': 'auto:Unternehmen'},\n",
      "                                 {'fields': [{'field_name': 'JAHR',\n",
      "                                              'type': 'year_m'},\n",
      "                                             {'field_name': 'QUARTAL',\n",
      "                                              'type': 'quarter_m'}],\n",
      "                                  'num_entries': '1',\n",
      "                                  'orientation': 'horizontal',\n",
      "                                  'table_name': 'Quarter',\n",
      "                                  'upper_left': 'auto:JAHR'}]},\n",
      "                     {'actual_name': 'Ihre_CN_Code_Liste',\n",
      "                      'legacy_name': 'Ihre_CN_Code_Liste',\n",
      "                      'tables': [{'fields': [{'field_name': 'CN_Code '\n",
      "                                                            '(8-stellig)',\n",
      "                                              'type': 'cn_code_m'}],\n",
      "                                  'no_example_rows': 2,\n",
      "                                  'num_entries': '..500',\n",
      "                                  'orientation': 'vertical',\n",
      "                                  'table_name': 'CN_Codes',\n",
      "                                  'upper_left': 'auto:Nummerierung'}]},\n",
      "                     {'actual_name': 'Ihre_Hersteller_Liste',\n",
      "                      'legacy_name': 'Ihre_Hersteller_Liste',\n",
      "                      'tables': [{'fields': [{'field_name': 'Name',\n",
      "                                              'type': 'string_m'},\n",
      "                                             {'field_name': 'Straße',\n",
      "                                              'type': 'string_o'},\n",
      "                                             {'field_name': 'Hausnummer',\n",
      "                                              'type': 'string_o'},\n",
      "                                             {'field_name': 'Adresszusatz',\n",
      "                                              'type': 'string_o'},\n",
      "                                             {'field_name': 'Postleitzahl',\n",
      "                                              'type': 'string_o'},\n",
      "                                             {'field_name': 'Stadt',\n",
      "                                              'type': 'string_m'},\n",
      "                                             {'field_name': 'Land',\n",
      "                                              'type': 'country_m'},\n",
      "                                             {'field_name': 'Ansprechpartner',\n",
      "                                              'type': 'string_m'},\n",
      "                                             {'field_name': 'Email-Adresse',\n",
      "                                              'type': 'mail_adress_m'},\n",
      "                                             {'field_name': 'Telefonnummer',\n",
      "                                              'type': 'string_m'},\n",
      "                                             {'field_name': 'Anmerkungen',\n",
      "                                              'type': 'string_o'}],\n",
      "                                  'num_entries': '..500',\n",
      "                                  'orientation': 'vertical',\n",
      "                                  'table_name': 'Operator_List',\n",
      "                                  'upper_left': 'auto:Nummerierung'}]}]},\n",
      " 'version_1_7': {'version_auto_detect': {1: {'sheets': {'sheet_name': 'Allgemeine_Informationen'}}}}}\n"
     ]
    }
   ],
   "source": [
    "import yaml\n",
    "from yaml.loader import SafeLoader\n",
    "from pprint import pprint\n",
    "\n",
    "layout_dict = None\n",
    "\n",
    "try:\n",
    "    with open(\"../../version_layouts.yml\", \"r\") as f:\n",
    "        layout_dict = yaml.load(f, Loader=SafeLoader)\n",
    "except FileNotFoundError:\n",
    "    print(\"The specified file was not found.\")\n",
    "except yaml.YAMLError as exc:\n",
    "    print(f\"Error parsing YAML file: {exc}\")\n",
    "except Exception as e:\n",
    "    print(f\"An unexpected error occurred: {e}\")\n",
    "\n",
    "if layout_dict:\n",
    "    pprint(layout_dict)\n",
    "else:\n",
    "    print(\"No data loaded from the YAML file.\")"
   ]
  },
  {
   "cell_type": "code",
   "execution_count": 12,
   "metadata": {},
   "outputs": [
    {
     "name": "stdout",
     "output_type": "stream",
     "text": [
      "A3\n"
     ]
    },
    {
     "ename": "ValueError",
     "evalue": "Keyword '1.7.3' not found in worksheet",
     "output_type": "error",
     "traceback": [
      "\u001b[0;31m---------------------------------------------------------------------------\u001b[0m",
      "\u001b[0;31mValueError\u001b[0m                                Traceback (most recent call last)",
      "Cell \u001b[0;32mIn[12], line 33\u001b[0m\n\u001b[1;32m     31\u001b[0m index_str \u001b[38;5;241m=\u001b[39m keyword_index(ws, \u001b[38;5;124m\"\u001b[39m\u001b[38;5;124mVersion\u001b[39m\u001b[38;5;124m\"\u001b[39m)\n\u001b[1;32m     32\u001b[0m \u001b[38;5;28mprint\u001b[39m(index_str)\n\u001b[0;32m---> 33\u001b[0m \u001b[38;5;28mprint\u001b[39m(\u001b[43mkeyword_index\u001b[49m\u001b[43m(\u001b[49m\u001b[43mws\u001b[49m\u001b[43m,\u001b[49m\u001b[43m \u001b[49m\u001b[38;5;124;43m\"\u001b[39;49m\u001b[38;5;124;43m1.7.3\u001b[39;49m\u001b[38;5;124;43m\"\u001b[39;49m\u001b[43m,\u001b[49m\u001b[43m \u001b[49m\u001b[43mfixed_row\u001b[49m\u001b[38;5;241;43m=\u001b[39;49m\u001b[38;5;124;43m'\u001b[39;49m\u001b[38;5;124;43m'\u001b[39;49m\u001b[38;5;241;43m.\u001b[39;49m\u001b[43mjoin\u001b[49m\u001b[43m(\u001b[49m\u001b[38;5;28;43mfilter\u001b[39;49m\u001b[43m(\u001b[49m\u001b[38;5;28;43mstr\u001b[39;49m\u001b[38;5;241;43m.\u001b[39;49m\u001b[43misdigit\u001b[49m\u001b[43m,\u001b[49m\u001b[43m \u001b[49m\u001b[43mindex_str\u001b[49m\u001b[43m)\u001b[49m\u001b[43m)\u001b[49m\u001b[43m)\u001b[49m)\n",
      "Cell \u001b[0;32mIn[12], line 26\u001b[0m, in \u001b[0;36mkeyword_index\u001b[0;34m(worksheet, keyword, fixed_row, fixed_column)\u001b[0m\n\u001b[1;32m     23\u001b[0m             \u001b[38;5;28;01mif\u001b[39;00m cell\u001b[38;5;241m.\u001b[39mvalue \u001b[38;5;241m==\u001b[39m keyword:\n\u001b[1;32m     24\u001b[0m                 \u001b[38;5;28;01mreturn\u001b[39;00m get_column_letter(cell\u001b[38;5;241m.\u001b[39mcolumn) \u001b[38;5;241m+\u001b[39m \u001b[38;5;28mstr\u001b[39m(cell\u001b[38;5;241m.\u001b[39mrow)\n\u001b[0;32m---> 26\u001b[0m \u001b[38;5;28;01mraise\u001b[39;00m \u001b[38;5;167;01mValueError\u001b[39;00m(\u001b[38;5;124mf\u001b[39m\u001b[38;5;124m\"\u001b[39m\u001b[38;5;124mKeyword \u001b[39m\u001b[38;5;124m'\u001b[39m\u001b[38;5;132;01m{\u001b[39;00mkeyword\u001b[38;5;132;01m}\u001b[39;00m\u001b[38;5;124m'\u001b[39m\u001b[38;5;124m not found in worksheet\u001b[39m\u001b[38;5;124m\"\u001b[39m)\n",
      "\u001b[0;31mValueError\u001b[0m: Keyword '1.7.3' not found in worksheet"
     ]
    }
   ],
   "source": [
    "import openpyxl\n",
    "import os\n",
    "from openpyxl.utils import column_index_from_string, get_column_letter\n",
    "\n",
    "\n",
    "def keyword_index(worksheet, keyword, fixed_row=None, fixed_column=None):\n",
    "    \"\"\"\n",
    "    Returns the index of row and column of the keyword in the worksheet as a string.\n",
    "\n",
    "    If fixed_row or fixed_column are provided, the search is limited to that row or column.\n",
    "    \"\"\"\n",
    "    if fixed_row is not None:\n",
    "        for cell in worksheet[fixed_row]:\n",
    "            if cell.value == keyword:\n",
    "                return get_column_letter(cell.column)+ str(cell.row)\n",
    "    elif fixed_column is not None:\n",
    "        for cell in worksheet[fixed_column]:\n",
    "            if cell.value == keyword:\n",
    "                return get_column_letter(cell.column) + str(cell.row)\n",
    "    else:\n",
    "        for row in worksheet.iter_rows():\n",
    "            for cell in row:\n",
    "                if cell.value == keyword:\n",
    "                    return get_column_letter(cell.column) + str(cell.row)\n",
    "\n",
    "    raise ValueError(f\"Keyword '{keyword}' not found in worksheet\")\n",
    "\n",
    "wb = openpyxl.load_workbook('../testdata/datenerfassung_leer_V1.7.2.xlsx')\n",
    "ws = wb[\"Specification\"]\n",
    "\n",
    "index_str = keyword_index(ws, \"Version\")\n",
    "print(index_str)\n",
    "print(keyword_index(ws, \"1.7.3\", fixed_row=''.join(filter(str.isdigit, index_str))))\n"
   ]
  },
  {
   "cell_type": "code",
   "execution_count": 6,
   "metadata": {},
   "outputs": [
    {
     "name": "stdout",
     "output_type": "stream",
     "text": [
      "Hello, \u001b[38;2;255;87;51m beautiful \u001b[0m world. Ich habe einen \u001b[38;2;255;87;51m roten \u001b[38;2;40;167;69m grünen \u001b[38;2;255;87;51m Apfel. \u001b[1mFetter Text\u001b[38;2;255;87;51m \u001b[0mund \u001b[3mkursiver Text\u001b[0m. Auch \u001b[4munterstrichen\u001b[0m und \u001b[7mhervorgehoben\u001b[0m.\u001b[0m\n"
     ]
    }
   ],
   "source": [
    "import re\n",
    "\n",
    "def col_from_hex(hex_color):\n",
    "    \"\"\"Converts a hex color code to an ANSI escape sequence for the terminal.\"\"\"\n",
    "    r, g, b = tuple(int(hex_color[i:i+2], 16) for i in (1, 3, 5))\n",
    "    return f\"\\033[38;2;{r};{g};{b}m\"\n",
    "\n",
    "def parse_colored_string(s, color_dict):\n",
    "    \"\"\"Parses a string with custom color tags and returns a string with ANSI escape sequences.\"\"\"\n",
    "    reset = \"\\033[0m\"\n",
    "    stack = []\n",
    "    result = \"\"\n",
    "\n",
    "    pattern = re.compile(r\"<(\\/?[#a-zA-Z0-9]+)>|([^<]+)\")\n",
    "\n",
    "    style_dict = {\n",
    "        \"b\": \"\\033[1m\",     # Bold\n",
    "        \"i\": \"\\033[3m\",     # Italic\n",
    "        \"u\": \"\\033[4m\",     # Underline\n",
    "        \"mark\": \"\\033[7m\",  # Highlight (Reverse Video)\n",
    "    }\n",
    "\n",
    "    for match in pattern.finditer(s):\n",
    "        tag, text = match.groups()\n",
    "\n",
    "        if tag:\n",
    "            if tag.startswith(\"/\"):\n",
    "                if tag == \"/r\":\n",
    "                    result += reset\n",
    "                    stack.clear()\n",
    "                elif stack:\n",
    "                    stack.pop()\n",
    "                    result += stack[-1] if stack else reset\n",
    "            else:\n",
    "                if tag.startswith(\"#\"):  # Wenn der Tag ein Hex-Code ist\n",
    "                    color = col_from_hex(tag)\n",
    "                elif tag in style_dict:  # Wenn es ein Stil-Tag ist\n",
    "                    color = style_dict[tag]\n",
    "                else:  # Wenn der Tag ein benannter Farbname ist\n",
    "                    color = color_dict.get(tag, \"\")\n",
    "                stack.append(color)\n",
    "                result += color\n",
    "        elif text:\n",
    "            result += text\n",
    "\n",
    "    return result + reset\n",
    "\n",
    "# Beispiel für die Nutzung\n",
    "color_dict = {\n",
    "    \"red\": col_from_hex(\"#ff5733\"),\n",
    "    \"green\": col_from_hex(\"#28a745\"),\n",
    "    \"blue\": col_from_hex(\"#007bff\"),\n",
    "}\n",
    "\n",
    "formatted_string = (\n",
    "    \"Hello, <#ff5733> beautiful </r> world. \"\n",
    "    \"Ich habe einen <red> roten <green> grünen </green> Apfel. \"\n",
    "    \"<b>Fetter Text</b> </r>und <i>kursiver Text</i>. \"\n",
    "    \"Auch <u>unterstrichen</u> und <mark>hervorgehoben</mark>.\"\n",
    ")\n",
    "parsed_string = parse_colored_string(formatted_string, color_dict)\n",
    "print(parsed_string)"
   ]
  },
  {
   "cell_type": "code",
   "execution_count": 5,
   "metadata": {},
   "outputs": [
    {
     "data": {
      "text/plain": [
       "[]"
      ]
     },
     "execution_count": 5,
     "metadata": {},
     "output_type": "execute_result"
    }
   ],
   "source": [
    "import xattr\n",
    "import plistlib\n",
    "\n",
    "def get_macos_tags(file_path):\n",
    "    try:\n",
    "        # Versuchen, das erweiterte Attribut für Finder-Tags zu lesen\n",
    "        tags = xattr.getxattr(file_path, 'com.apple.metadata:_kMDItemUserTags')\n",
    "        # Umwandeln der Binärdaten im plist-Format in eine Python-Struktur\n",
    "        tags = plistlib.loads(tags)\n",
    "        return tags\n",
    "    except (KeyError, OSError, plistlib.InvalidFileException) as e:\n",
    "        # Wenn keine Tags vorhanden sind oder ein Fehler auftritt, wird eine Nachricht zurückgegeben\n",
    "        return f\"Keine Tags gefunden oder Fehler beim Auslesen: {e}\"\n",
    "\n",
    "# Beispielaufruf für eine Datei\n",
    "file_path = \"/Users/andreas/Lokal/CBAM - Lokal/4 - Berichterstellung/Report Creation Workflow/input/customer_Q3 Datenerfassung zu CBAM-Reporterstellung -.xlsx\"  # Den Pfad zur gewünschten Datei hier angeben\n",
    "get_macos_tags(file_path)"
   ]
  },
  {
   "cell_type": "code",
   "execution_count": null,
   "metadata": {},
   "outputs": [],
   "source": []
  }
 ],
 "metadata": {
  "kernelspec": {
   "display_name": ".venv",
   "language": "python",
   "name": "python3"
  },
  "language_info": {
   "codemirror_mode": {
    "name": "ipython",
    "version": 3
   },
   "file_extension": ".py",
   "mimetype": "text/x-python",
   "name": "python",
   "nbconvert_exporter": "python",
   "pygments_lexer": "ipython3",
   "version": "3.13.0"
  }
 },
 "nbformat": 4,
 "nbformat_minor": 2
}
